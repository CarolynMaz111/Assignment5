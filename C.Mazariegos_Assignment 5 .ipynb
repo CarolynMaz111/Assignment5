{
 "cells": [
  {
   "cell_type": "markdown",
   "metadata": {},
   "source": [
    "### Task 1\n",
    "Import the pandas library using the alias pd"
   ]
  },
  {
   "cell_type": "code",
   "execution_count": 28,
   "metadata": {},
   "outputs": [],
   "source": [
    "import pandas as pd\n"
   ]
  },
  {
   "cell_type": "markdown",
   "metadata": {},
   "source": [
    "### Task 2\n",
    "Define the RPSExecute function from the previous exercise.  If you are not happy with your solution, you can use my function from Assignment 4 solution."
   ]
  },
  {
   "cell_type": "code",
   "execution_count": 29,
   "metadata": {},
   "outputs": [],
   "source": [
    "# Game Execute Function\n",
    "def RPSExecute(player1, player2):\n",
    "    if player1 == player2:\n",
    "        return 0\n",
    "    elif player1 == 'rock' and player2 == 'scissors' \\\n",
    "    or player1 == 'scissors' and player2 == 'paper' \\\n",
    "    or player1 == 'paper' and player2 == 'rock':\n",
    "        return 1\n",
    "    else:\n",
    "        return 2\n"
   ]
  },
  {
   "cell_type": "markdown",
   "metadata": {},
   "source": [
    "### Task 3\n",
    "Load the contents of the RPSList.csv file into a pandas DataFrame variable called rpsList. Remember that the first row in the file has column names. Print the first 5 rows of the DataFrame to the output window."
   ]
  },
  {
   "cell_type": "code",
   "execution_count": 30,
   "metadata": {},
   "outputs": [
    {
     "name": "stdout",
     "output_type": "stream",
     "text": [
      "   Game_ID   Player1   Player2\n",
      "0        1      rock     paper\n",
      "1        2     paper  scissors\n",
      "2        3  scissors      rock\n",
      "3        4  scissors  scissors\n",
      "4        5      rock      rock\n"
     ]
    }
   ],
   "source": [
    "df = pd.read_csv('RPSList.csv', header = 0)\n",
    "print(df.head())\n",
    "\n",
    "rpsList = ['2', '3', '4', '5', \n",
    "            '6']\n",
    "  \n",
    "\n",
    "  "
   ]
  },
  {
   "cell_type": "markdown",
   "metadata": {},
   "source": [
    "### Task 4\n",
    "Write a loop through all rows in the DataFrame and do the following for each row:\n",
    "- Extract the inputs for Player 1 and Player 2 from the row.  It might be easier to store these inputs into variables.\n",
    "- Use these inputs to call the RPSExecute function. Store the result into a variable.\n",
    "- Keep a running tally of games won by Player 1, Player 2, and Ties.\n",
    "- Output a log of the results of the games. If you did it correctly, the results should look like this:\n",
    "\n",
    "Game Log\n",
    "\n",
    "15 games were a tie\n",
    "\n",
    "20 games were won by Player 1\n",
    "\n",
    "15 games were won by Player 2"
   ]
  },
  {
   "cell_type": "code",
   "execution_count": 16,
   "metadata": {},
   "outputs": [
    {
     "name": "stdout",
     "output_type": "stream",
     "text": [
      "Game Log\n",
      "15 games were a tie\n",
      "20 games were won by Player 1\n",
      "15 games were won by Player 2\n"
     ]
    }
   ],
   "source": [
    "df = pd.read_csv('RPSList.csv')\n",
    "\n",
    "# Read the DataFrame from provided data\n",
    "data = {\n",
    "    'Game_ID': range(1, 51)\n",
    "}\n",
    "\n",
    "# Initialize counters for wins and ties\n",
    "player1_wins = 0\n",
    "player2_wins = 0\n",
    "ties = 0\n",
    "\n",
    "# Iterate over each row in the DataFrame\n",
    "for index, row in df.iterrows():\n",
    "    # Extract inputs for Player 1 and Player 2\n",
    "    player1_input = row['Player1']\n",
    "    player2_input = row['Player2']\n",
    "    \n",
    "    # Call RPSExecute function with the inputs\n",
    "    result = RPSExecute(player1_input, player2_input)\n",
    "    \n",
    "    # Update counters based on the result\n",
    "    if result == 0:\n",
    "        ties += 1\n",
    "    elif result == 1:\n",
    "        player1_wins += 1\n",
    "    else:\n",
    "        player2_wins += 1\n",
    "\n",
    "# Output game log\n",
    "print(\"Game Log\")\n",
    "print(f\"{ties} games were a tie\")\n",
    "print(f\"{player1_wins} games were won by Player 1\")\n",
    "print(f\"{player2_wins} games were won by Player 2\")\n",
    "\n"
   ]
  }
 ],
 "metadata": {
  "kernelspec": {
   "display_name": "Python 3 (ipykernel)",
   "language": "python",
   "name": "python3"
  },
  "language_info": {
   "codemirror_mode": {
    "name": "ipython",
    "version": 3
   },
   "file_extension": ".py",
   "mimetype": "text/x-python",
   "name": "python",
   "nbconvert_exporter": "python",
   "pygments_lexer": "ipython3",
   "version": "3.11.5"
  }
 },
 "nbformat": 4,
 "nbformat_minor": 2
}
